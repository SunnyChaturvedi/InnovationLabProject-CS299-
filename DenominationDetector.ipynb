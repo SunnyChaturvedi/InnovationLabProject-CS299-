{
  "nbformat": 4,
  "nbformat_minor": 0,
  "metadata": {
    "colab": {
      "name": "DenominationDetectr2.ipynb",
      "provenance": [],
      "collapsed_sections": [],
      "mount_file_id": "1HZyy8rQ-5-O2psXHE-2T7SWGXedOVJS6",
      "authorship_tag": "ABX9TyNXVtqPkf+mgeODOjC042tn",
      "include_colab_link": true
    },
    "kernelspec": {
      "name": "python3",
      "display_name": "Python 3"
    },
    "accelerator": "GPU"
  },
  "cells": [
    {
      "cell_type": "markdown",
      "metadata": {
        "id": "view-in-github",
        "colab_type": "text"
      },
      "source": [
        "<a href=\"https://colab.research.google.com/github/SunnyChaturvedi/InnovationLabProject-CS299-/blob/main/DenominationDetector.ipynb\" target=\"_parent\"><img src=\"https://colab.research.google.com/assets/colab-badge.svg\" alt=\"Open In Colab\"/></a>"
      ]
    },
    {
      "cell_type": "code",
      "metadata": {
        "colab": {
          "base_uri": "https://localhost:8080/",
          "height": 853
        },
        "id": "kCSxqLo6fPkQ",
        "outputId": "bcda1750-9d99-4256-9233-cd4901a9ac8c"
      },
      "source": [
        "!pip install tensorflow-gpu"
      ],
      "execution_count": null,
      "outputs": [
        {
          "output_type": "stream",
          "text": [
            "Collecting tensorflow-gpu\n",
            "\u001b[?25l  Downloading https://files.pythonhosted.org/packages/f1/aa/ae64be5acaac9055329289e6bfd54c1efa28bfe792f9021cea495fe2b89d/tensorflow_gpu-2.4.0-cp36-cp36m-manylinux2010_x86_64.whl (394.7MB)\n",
            "\u001b[K     |████████████████████████████████| 394.7MB 40kB/s \n",
            "\u001b[?25hRequirement already satisfied: opt-einsum~=3.3.0 in /usr/local/lib/python3.6/dist-packages (from tensorflow-gpu) (3.3.0)\n",
            "Requirement already satisfied: termcolor~=1.1.0 in /usr/local/lib/python3.6/dist-packages (from tensorflow-gpu) (1.1.0)\n",
            "Requirement already satisfied: numpy~=1.19.2 in /usr/local/lib/python3.6/dist-packages (from tensorflow-gpu) (1.19.4)\n",
            "Requirement already satisfied: keras-preprocessing~=1.1.2 in /usr/local/lib/python3.6/dist-packages (from tensorflow-gpu) (1.1.2)\n",
            "Requirement already satisfied: wheel~=0.35 in /usr/local/lib/python3.6/dist-packages (from tensorflow-gpu) (0.36.2)\n",
            "Requirement already satisfied: tensorflow-estimator<2.5.0,>=2.4.0rc0 in /usr/local/lib/python3.6/dist-packages (from tensorflow-gpu) (2.4.0)\n",
            "Requirement already satisfied: protobuf>=3.9.2 in /usr/local/lib/python3.6/dist-packages (from tensorflow-gpu) (3.12.4)\n",
            "Requirement already satisfied: gast==0.3.3 in /usr/local/lib/python3.6/dist-packages (from tensorflow-gpu) (0.3.3)\n",
            "Requirement already satisfied: flatbuffers~=1.12.0 in /usr/local/lib/python3.6/dist-packages (from tensorflow-gpu) (1.12)\n",
            "Requirement already satisfied: astunparse~=1.6.3 in /usr/local/lib/python3.6/dist-packages (from tensorflow-gpu) (1.6.3)\n",
            "Requirement already satisfied: absl-py~=0.10 in /usr/local/lib/python3.6/dist-packages (from tensorflow-gpu) (0.10.0)\n",
            "Requirement already satisfied: google-pasta~=0.2 in /usr/local/lib/python3.6/dist-packages (from tensorflow-gpu) (0.2.0)\n",
            "Requirement already satisfied: typing-extensions~=3.7.4 in /usr/local/lib/python3.6/dist-packages (from tensorflow-gpu) (3.7.4.3)\n",
            "Requirement already satisfied: wrapt~=1.12.1 in /usr/local/lib/python3.6/dist-packages (from tensorflow-gpu) (1.12.1)\n",
            "Requirement already satisfied: h5py~=2.10.0 in /usr/local/lib/python3.6/dist-packages (from tensorflow-gpu) (2.10.0)\n",
            "Requirement already satisfied: six~=1.15.0 in /usr/local/lib/python3.6/dist-packages (from tensorflow-gpu) (1.15.0)\n",
            "Requirement already satisfied: grpcio~=1.32.0 in /usr/local/lib/python3.6/dist-packages (from tensorflow-gpu) (1.32.0)\n",
            "Requirement already satisfied: tensorboard~=2.4 in /usr/local/lib/python3.6/dist-packages (from tensorflow-gpu) (2.4.0)\n",
            "Requirement already satisfied: setuptools in /usr/local/lib/python3.6/dist-packages (from protobuf>=3.9.2->tensorflow-gpu) (51.0.0)\n",
            "Requirement already satisfied: google-auth-oauthlib<0.5,>=0.4.1 in /usr/local/lib/python3.6/dist-packages (from tensorboard~=2.4->tensorflow-gpu) (0.4.2)\n",
            "Requirement already satisfied: werkzeug>=0.11.15 in /usr/local/lib/python3.6/dist-packages (from tensorboard~=2.4->tensorflow-gpu) (1.0.1)\n",
            "Requirement already satisfied: markdown>=2.6.8 in /usr/local/lib/python3.6/dist-packages (from tensorboard~=2.4->tensorflow-gpu) (3.3.3)\n",
            "Requirement already satisfied: requests<3,>=2.21.0 in /usr/local/lib/python3.6/dist-packages (from tensorboard~=2.4->tensorflow-gpu) (2.23.0)\n",
            "Requirement already satisfied: google-auth<2,>=1.6.3 in /usr/local/lib/python3.6/dist-packages (from tensorboard~=2.4->tensorflow-gpu) (1.17.2)\n",
            "Requirement already satisfied: tensorboard-plugin-wit>=1.6.0 in /usr/local/lib/python3.6/dist-packages (from tensorboard~=2.4->tensorflow-gpu) (1.7.0)\n",
            "Requirement already satisfied: requests-oauthlib>=0.7.0 in /usr/local/lib/python3.6/dist-packages (from google-auth-oauthlib<0.5,>=0.4.1->tensorboard~=2.4->tensorflow-gpu) (1.3.0)\n",
            "Requirement already satisfied: importlib-metadata; python_version < \"3.8\" in /usr/local/lib/python3.6/dist-packages (from markdown>=2.6.8->tensorboard~=2.4->tensorflow-gpu) (3.3.0)\n",
            "Requirement already satisfied: certifi>=2017.4.17 in /usr/local/lib/python3.6/dist-packages (from requests<3,>=2.21.0->tensorboard~=2.4->tensorflow-gpu) (2020.12.5)\n",
            "Requirement already satisfied: idna<3,>=2.5 in /usr/local/lib/python3.6/dist-packages (from requests<3,>=2.21.0->tensorboard~=2.4->tensorflow-gpu) (2.10)\n",
            "Requirement already satisfied: chardet<4,>=3.0.2 in /usr/local/lib/python3.6/dist-packages (from requests<3,>=2.21.0->tensorboard~=2.4->tensorflow-gpu) (3.0.4)\n",
            "Requirement already satisfied: urllib3!=1.25.0,!=1.25.1,<1.26,>=1.21.1 in /usr/local/lib/python3.6/dist-packages (from requests<3,>=2.21.0->tensorboard~=2.4->tensorflow-gpu) (1.24.3)\n",
            "Requirement already satisfied: cachetools<5.0,>=2.0.0 in /usr/local/lib/python3.6/dist-packages (from google-auth<2,>=1.6.3->tensorboard~=2.4->tensorflow-gpu) (4.2.0)\n",
            "Requirement already satisfied: pyasn1-modules>=0.2.1 in /usr/local/lib/python3.6/dist-packages (from google-auth<2,>=1.6.3->tensorboard~=2.4->tensorflow-gpu) (0.2.8)\n",
            "Requirement already satisfied: rsa<5,>=3.1.4; python_version >= \"3\" in /usr/local/lib/python3.6/dist-packages (from google-auth<2,>=1.6.3->tensorboard~=2.4->tensorflow-gpu) (4.6)\n",
            "Requirement already satisfied: oauthlib>=3.0.0 in /usr/local/lib/python3.6/dist-packages (from requests-oauthlib>=0.7.0->google-auth-oauthlib<0.5,>=0.4.1->tensorboard~=2.4->tensorflow-gpu) (3.1.0)\n",
            "Requirement already satisfied: zipp>=0.5 in /usr/local/lib/python3.6/dist-packages (from importlib-metadata; python_version < \"3.8\"->markdown>=2.6.8->tensorboard~=2.4->tensorflow-gpu) (3.4.0)\n",
            "Requirement already satisfied: pyasn1<0.5.0,>=0.4.6 in /usr/local/lib/python3.6/dist-packages (from pyasn1-modules>=0.2.1->google-auth<2,>=1.6.3->tensorboard~=2.4->tensorflow-gpu) (0.4.8)\n",
            "Installing collected packages: tensorflow-gpu\n",
            "Successfully installed tensorflow-gpu-2.4.0\n"
          ],
          "name": "stdout"
        },
        {
          "output_type": "display_data",
          "data": {
            "application/vnd.colab-display-data+json": {
              "pip_warning": {
                "packages": [
                  "tensorflow"
                ]
              }
            }
          },
          "metadata": {
            "tags": []
          }
        }
      ]
    },
    {
      "cell_type": "code",
      "metadata": {
        "colab": {
          "base_uri": "https://localhost:8080/"
        },
        "id": "w-QgkPBJfhLt",
        "outputId": "3e059525-4036-4442-cdc7-c83491e72c92"
      },
      "source": [
        "!nvidia-smi"
      ],
      "execution_count": null,
      "outputs": [
        {
          "output_type": "stream",
          "text": [
            "NVIDIA-SMI has failed because it couldn't communicate with the NVIDIA driver. Make sure that the latest NVIDIA driver is installed and running.\n",
            "\n"
          ],
          "name": "stdout"
        }
      ]
    },
    {
      "cell_type": "code",
      "metadata": {
        "colab": {
          "base_uri": "https://localhost:8080/"
        },
        "id": "73DsYnfNeaHL",
        "outputId": "91858066-6289-4f2d-81e8-4cac4c53d92a"
      },
      "source": [
        "import ctypes\r\n",
        "import itertools\r\n",
        "import os\r\n",
        "\r\n",
        "\r\n",
        "import matplotlib.pylab as plt\r\n",
        "import numpy as np\r\n",
        "\r\n",
        "import tensorflow as tf\r\n",
        "import tensorflow_hub as hub\r\n",
        "\r\n",
        "print(\"TF version:\", tf.__version__)\r\n",
        "print(\"Hub version:\", hub.__version__)\r\n"
      ],
      "execution_count": 2,
      "outputs": [
        {
          "output_type": "stream",
          "text": [
            "TF version: 2.4.0\n",
            "Hub version: 0.10.0\n"
          ],
          "name": "stdout"
        }
      ]
    },
    {
      "cell_type": "code",
      "metadata": {
        "colab": {
          "base_uri": "https://localhost:8080/"
        },
        "id": "GxBF2eO-a92P",
        "outputId": "0edd405a-fa71-4a70-bdf4-5e75d7f49e65"
      },
      "source": [
        "module_selection = (\"mobilenet_v2_100_224\", 224)\r\n",
        "handle_base, pixels = module_selection\r\n",
        "MODULE_HANDLE =\"https://tfhub.dev/google/imagenet/{}/feature_vector/4\".format(handle_base)\r\n",
        "IMAGE_SIZE = (pixels, pixels)\r\n",
        "print(\"Using {} with input size {}\".format(MODULE_HANDLE, IMAGE_SIZE))\r\n",
        "\r\n",
        "BATCH_SIZE = 16"
      ],
      "execution_count": 6,
      "outputs": [
        {
          "output_type": "stream",
          "text": [
            "Using https://tfhub.dev/google/imagenet/mobilenet_v2_100_224/feature_vector/4 with input size (224, 224)\n"
          ],
          "name": "stdout"
        }
      ]
    },
    {
      "cell_type": "code",
      "metadata": {
        "id": "s3GDRvNQgv3L"
      },
      "source": [
        "data_dir = '/content/drive/MyDrive/dataset'"
      ],
      "execution_count": 8,
      "outputs": []
    },
    {
      "cell_type": "code",
      "metadata": {
        "colab": {
          "base_uri": "https://localhost:8080/"
        },
        "id": "09TIRQ-Lg5Dc",
        "outputId": "bffaf139-6171-4947-f1cf-4e872c8abd3c"
      },
      "source": [
        "datagen_kwargs = dict(rescale=1./255, validation_split=.20)\r\n",
        "dataflow_kwargs = dict(target_size=IMAGE_SIZE, batch_size=BATCH_SIZE,\r\n",
        "                   interpolation=\"bilinear\")\r\n",
        "\r\n",
        "valid_datagen = tf.keras.preprocessing.image.ImageDataGenerator(\r\n",
        "    **datagen_kwargs)\r\n",
        "valid_generator = valid_datagen.flow_from_directory(\r\n",
        "    data_dir, subset=\"validation\", shuffle=False, **dataflow_kwargs)\r\n",
        "\r\n",
        "do_data_augmentation = False \r\n",
        "if do_data_augmentation:\r\n",
        "  train_datagen = tf.keras.preprocessing.image.ImageDataGenerator(\r\n",
        "      rotation_range=40,\r\n",
        "      horizontal_flip=True,\r\n",
        "      width_shift_range=0.2, height_shift_range=0.2,\r\n",
        "      shear_range=0.2, zoom_range=0.2,\r\n",
        "      **datagen_kwargs)\r\n",
        "else:\r\n",
        "  train_datagen = valid_datagen\r\n",
        "train_generator = train_datagen.flow_from_directory(\r\n",
        "    data_dir, subset=\"training\", shuffle=True, **dataflow_kwargs)"
      ],
      "execution_count": 9,
      "outputs": [
        {
          "output_type": "stream",
          "text": [
            "Found 518 images belonging to 2 classes.\n",
            "Found 2076 images belonging to 2 classes.\n"
          ],
          "name": "stdout"
        }
      ]
    },
    {
      "cell_type": "code",
      "metadata": {
        "id": "P48AIj21g8jC"
      },
      "source": [
        "do_fine_tuning = False"
      ],
      "execution_count": 13,
      "outputs": []
    },
    {
      "cell_type": "code",
      "metadata": {
        "colab": {
          "base_uri": "https://localhost:8080/"
        },
        "id": "8BMihoIuhWsG",
        "outputId": "3a15e37d-41bb-4aec-ac9f-593ae61098d7"
      },
      "source": [
        "print(\"Building model with\", MODULE_HANDLE)\r\n",
        "model = tf.keras.Sequential([\r\n",
        "    # Explicitly define the input shape so the model can be properly\r\n",
        "    # loaded by the TFLiteConverter\r\n",
        "    tf.keras.layers.InputLayer(input_shape=IMAGE_SIZE + (3,)),\r\n",
        "    hub.KerasLayer(MODULE_HANDLE, trainable=do_fine_tuning),\r\n",
        "    tf.keras.layers.Dropout(rate=0.2),\r\n",
        "    tf.keras.layers.Dense(train_generator.num_classes,\r\n",
        "                          kernel_regularizer=tf.keras.regularizers.l2(0.0001))\r\n",
        "])\r\n",
        "model.build((None,)+IMAGE_SIZE+(3,))\r\n",
        "model.summary()\r\n"
      ],
      "execution_count": 14,
      "outputs": [
        {
          "output_type": "stream",
          "text": [
            "Building model with https://tfhub.dev/google/imagenet/mobilenet_v2_100_224/feature_vector/4\n",
            "Model: \"sequential\"\n",
            "_________________________________________________________________\n",
            "Layer (type)                 Output Shape              Param #   \n",
            "=================================================================\n",
            "keras_layer (KerasLayer)     (None, 1280)              2257984   \n",
            "_________________________________________________________________\n",
            "dropout (Dropout)            (None, 1280)              0         \n",
            "_________________________________________________________________\n",
            "dense (Dense)                (None, 2)                 2562      \n",
            "=================================================================\n",
            "Total params: 2,260,546\n",
            "Trainable params: 2,562\n",
            "Non-trainable params: 2,257,984\n",
            "_________________________________________________________________\n"
          ],
          "name": "stdout"
        }
      ]
    },
    {
      "cell_type": "code",
      "metadata": {
        "id": "FieqikLJhbms"
      },
      "source": [
        "model.compile(\r\n",
        "  optimizer=tf.keras.optimizers.SGD(lr=0.001, momentum=0.9), \r\n",
        "  loss=tf.keras.losses.CategoricalCrossentropy(from_logits=True, label_smoothing=0.1),\r\n",
        "  metrics=['accuracy'])"
      ],
      "execution_count": 16,
      "outputs": []
    },
    {
      "cell_type": "code",
      "metadata": {
        "colab": {
          "base_uri": "https://localhost:8080/",
          "height": 1000
        },
        "id": "6QnD4kLbhmmj",
        "outputId": "6dc9c70a-3a27-4747-c1b3-72acf1f76c4b"
      },
      "source": [
        "steps_per_epoch = train_generator.samples // train_generator.batch_size\r\n",
        "validation_steps = valid_generator.samples // valid_generator.batch_size\r\n",
        "hist = model.fit(\r\n",
        "    train_generator,\r\n",
        "    epochs=50, steps_per_epoch=steps_per_epoch,\r\n",
        "    validation_data=valid_generator,\r\n",
        "    validation_steps=validation_steps).history\r\n",
        "\r\n",
        "\r\n",
        "plt.figure()\r\n",
        "plt.ylabel(\"Accuracy (training and validation)\")\r\n",
        "plt.xlabel(\"Training Steps\")\r\n",
        "plt.ylim([0,1])\r\n",
        "plt.plot(hist[\"accuracy\"])\r\n",
        "plt.plot(hist[\"val_accuracy\"])\r\n",
        "\r\n",
        "plt.figure()\r\n",
        "plt.ylabel(\"Loss (training and validation)\")\r\n",
        "plt.xlabel(\"Training Steps\")\r\n",
        "plt.ylim([0,2])\r\n",
        "plt.plot(hist[\"loss\"])\r\n",
        "plt.plot(hist[\"val_loss\"])\r\n",
        "\r\n",
        "model.save('/content/drive/MyDrive/books/modelmobilenet2.h5')"
      ],
      "execution_count": null,
      "outputs": [
        {
          "output_type": "stream",
          "text": [
            "Epoch 1/50\n",
            "129/129 [==============================] - 179s 1s/step - loss: 0.5805 - accuracy: 0.7870 - val_loss: 0.4364 - val_accuracy: 0.8672\n",
            "Epoch 2/50\n",
            "129/129 [==============================] - 176s 1s/step - loss: 0.4655 - accuracy: 0.8389 - val_loss: 0.4326 - val_accuracy: 0.8691\n",
            "Epoch 3/50\n",
            "129/129 [==============================] - 175s 1s/step - loss: 0.4577 - accuracy: 0.8430 - val_loss: 0.4187 - val_accuracy: 0.8711\n",
            "Epoch 4/50\n",
            "129/129 [==============================] - 175s 1s/step - loss: 0.4293 - accuracy: 0.8680 - val_loss: 0.3981 - val_accuracy: 0.8867\n",
            "Epoch 5/50\n",
            "129/129 [==============================] - 176s 1s/step - loss: 0.4165 - accuracy: 0.8617 - val_loss: 0.4037 - val_accuracy: 0.8789\n",
            "Epoch 6/50\n",
            "129/129 [==============================] - 174s 1s/step - loss: 0.3884 - accuracy: 0.8843 - val_loss: 0.4326 - val_accuracy: 0.8652\n",
            "Epoch 7/50\n",
            "129/129 [==============================] - 176s 1s/step - loss: 0.3893 - accuracy: 0.8786 - val_loss: 0.3971 - val_accuracy: 0.8828\n",
            "Epoch 8/50\n",
            "129/129 [==============================] - 176s 1s/step - loss: 0.3850 - accuracy: 0.8878 - val_loss: 0.4276 - val_accuracy: 0.8828\n",
            "Epoch 9/50\n",
            "129/129 [==============================] - 177s 1s/step - loss: 0.3999 - accuracy: 0.8742 - val_loss: 0.3999 - val_accuracy: 0.8770\n",
            "Epoch 10/50\n",
            "129/129 [==============================] - 178s 1s/step - loss: 0.3771 - accuracy: 0.8857 - val_loss: 0.3995 - val_accuracy: 0.8750\n",
            "Epoch 11/50\n",
            "129/129 [==============================] - 179s 1s/step - loss: 0.3784 - accuracy: 0.8948 - val_loss: 0.4195 - val_accuracy: 0.8633\n",
            "Epoch 12/50\n",
            "129/129 [==============================] - 179s 1s/step - loss: 0.3768 - accuracy: 0.8856 - val_loss: 0.4109 - val_accuracy: 0.8574\n",
            "Epoch 13/50\n",
            "129/129 [==============================] - 177s 1s/step - loss: 0.3780 - accuracy: 0.8951 - val_loss: 0.4060 - val_accuracy: 0.8750\n",
            "Epoch 14/50\n",
            "129/129 [==============================] - 177s 1s/step - loss: 0.3692 - accuracy: 0.8982 - val_loss: 0.4042 - val_accuracy: 0.8750\n",
            "Epoch 15/50\n",
            "129/129 [==============================] - 177s 1s/step - loss: 0.3608 - accuracy: 0.8976 - val_loss: 0.4097 - val_accuracy: 0.8750\n",
            "Epoch 16/50\n",
            "129/129 [==============================] - 177s 1s/step - loss: 0.3695 - accuracy: 0.9093 - val_loss: 0.4035 - val_accuracy: 0.8750\n",
            "Epoch 17/50\n",
            "129/129 [==============================] - 177s 1s/step - loss: 0.3538 - accuracy: 0.9102 - val_loss: 0.3912 - val_accuracy: 0.8809\n",
            "Epoch 18/50\n",
            "129/129 [==============================] - 176s 1s/step - loss: 0.3857 - accuracy: 0.8907 - val_loss: 0.4056 - val_accuracy: 0.8809\n",
            "Epoch 19/50\n",
            "129/129 [==============================] - 178s 1s/step - loss: 0.3637 - accuracy: 0.9006 - val_loss: 0.4140 - val_accuracy: 0.8809\n",
            "Epoch 20/50\n",
            "129/129 [==============================] - 178s 1s/step - loss: 0.3556 - accuracy: 0.9132 - val_loss: 0.4102 - val_accuracy: 0.8770\n",
            "Epoch 21/50\n",
            "129/129 [==============================] - 178s 1s/step - loss: 0.3446 - accuracy: 0.9176 - val_loss: 0.4014 - val_accuracy: 0.8809\n",
            "Epoch 22/50\n",
            "129/129 [==============================] - 177s 1s/step - loss: 0.3544 - accuracy: 0.9128 - val_loss: 0.4461 - val_accuracy: 0.8750\n",
            "Epoch 23/50\n",
            "129/129 [==============================] - 176s 1s/step - loss: 0.3489 - accuracy: 0.9181 - val_loss: 0.4041 - val_accuracy: 0.8828\n",
            "Epoch 24/50\n",
            "129/129 [==============================] - 177s 1s/step - loss: 0.3568 - accuracy: 0.9062 - val_loss: 0.4116 - val_accuracy: 0.8770\n",
            "Epoch 25/50\n",
            "129/129 [==============================] - 177s 1s/step - loss: 0.3411 - accuracy: 0.9145 - val_loss: 0.4070 - val_accuracy: 0.8750\n",
            "Epoch 26/50\n",
            "129/129 [==============================] - 177s 1s/step - loss: 0.3493 - accuracy: 0.9239 - val_loss: 0.4132 - val_accuracy: 0.8770\n",
            "Epoch 27/50\n",
            "129/129 [==============================] - 177s 1s/step - loss: 0.3549 - accuracy: 0.9051 - val_loss: 0.4423 - val_accuracy: 0.8730\n",
            "Epoch 28/50\n",
            "129/129 [==============================] - 175s 1s/step - loss: 0.3560 - accuracy: 0.9059 - val_loss: 0.3980 - val_accuracy: 0.8809\n",
            "Epoch 29/50\n",
            "129/129 [==============================] - 176s 1s/step - loss: 0.3397 - accuracy: 0.9324 - val_loss: 0.5171 - val_accuracy: 0.8652\n",
            "Epoch 30/50\n",
            "129/129 [==============================] - 176s 1s/step - loss: 0.3479 - accuracy: 0.9095 - val_loss: 0.4286 - val_accuracy: 0.8770\n",
            "Epoch 31/50\n",
            "129/129 [==============================] - 177s 1s/step - loss: 0.3483 - accuracy: 0.9083 - val_loss: 0.4123 - val_accuracy: 0.8730\n",
            "Epoch 32/50\n",
            "129/129 [==============================] - 178s 1s/step - loss: 0.3437 - accuracy: 0.9172 - val_loss: 0.4090 - val_accuracy: 0.8789\n",
            "Epoch 33/50\n",
            "129/129 [==============================] - 177s 1s/step - loss: 0.3448 - accuracy: 0.9172 - val_loss: 0.4039 - val_accuracy: 0.8809\n",
            "Epoch 34/50\n",
            "129/129 [==============================] - 177s 1s/step - loss: 0.3618 - accuracy: 0.9081 - val_loss: 0.4069 - val_accuracy: 0.8809\n",
            "Epoch 35/50\n",
            "129/129 [==============================] - 176s 1s/step - loss: 0.3504 - accuracy: 0.9156 - val_loss: 0.4250 - val_accuracy: 0.8789\n",
            "Epoch 36/50\n",
            "129/129 [==============================] - 174s 1s/step - loss: 0.3476 - accuracy: 0.9182 - val_loss: 0.4215 - val_accuracy: 0.8750\n",
            "Epoch 37/50\n",
            "129/129 [==============================] - 173s 1s/step - loss: 0.3356 - accuracy: 0.9324 - val_loss: 0.4245 - val_accuracy: 0.8750\n",
            "Epoch 38/50\n",
            "129/129 [==============================] - 172s 1s/step - loss: 0.3525 - accuracy: 0.9050 - val_loss: 0.4170 - val_accuracy: 0.8711\n",
            "Epoch 39/50\n",
            "129/129 [==============================] - 173s 1s/step - loss: 0.3382 - accuracy: 0.9218 - val_loss: 0.5105 - val_accuracy: 0.8594\n",
            "Epoch 40/50\n",
            "129/129 [==============================] - 173s 1s/step - loss: 0.3512 - accuracy: 0.9121 - val_loss: 0.4205 - val_accuracy: 0.8750\n",
            "Epoch 41/50\n",
            "129/129 [==============================] - 174s 1s/step - loss: 0.3492 - accuracy: 0.9103 - val_loss: 0.4104 - val_accuracy: 0.8809\n",
            "Epoch 42/50\n",
            "129/129 [==============================] - 175s 1s/step - loss: 0.3453 - accuracy: 0.9164 - val_loss: 0.4168 - val_accuracy: 0.8691\n",
            "Epoch 43/50\n",
            "129/129 [==============================] - 176s 1s/step - loss: 0.3410 - accuracy: 0.9275 - val_loss: 0.4150 - val_accuracy: 0.8652\n",
            "Epoch 44/50\n",
            "129/129 [==============================] - 175s 1s/step - loss: 0.3448 - accuracy: 0.9158 - val_loss: 0.4361 - val_accuracy: 0.8691\n",
            "Epoch 45/50\n",
            "129/129 [==============================] - 173s 1s/step - loss: 0.3482 - accuracy: 0.9133 - val_loss: 0.4187 - val_accuracy: 0.8750\n",
            "Epoch 46/50\n",
            "129/129 [==============================] - 169s 1s/step - loss: 0.3459 - accuracy: 0.9159 - val_loss: 0.4209 - val_accuracy: 0.8789\n",
            "Epoch 47/50\n",
            "129/129 [==============================] - 169s 1s/step - loss: 0.3562 - accuracy: 0.9079 - val_loss: 0.4223 - val_accuracy: 0.8711\n",
            "Epoch 48/50\n",
            "129/129 [==============================] - 170s 1s/step - loss: 0.3261 - accuracy: 0.9234 - val_loss: 0.4261 - val_accuracy: 0.8730\n",
            "Epoch 49/50\n",
            "129/129 [==============================] - 170s 1s/step - loss: 0.3505 - accuracy: 0.9150 - val_loss: 0.4163 - val_accuracy: 0.8613\n",
            "Epoch 50/50\n",
            "129/129 [==============================] - 166s 1s/step - loss: 0.3497 - accuracy: 0.9185 - val_loss: 0.4214 - val_accuracy: 0.8652\n"
          ],
          "name": "stdout"
        },
        {
          "output_type": "display_data",
          "data": {
            "image/png": "[encoded data removed]",
            "text/plain": [
              "<Figure size 432x288 with 1 Axes>"
            ]
          },
          "metadata": {
            "tags": [],
            "needs_background": "light"
          }
        },
        {
          "output_type": "display_data",
          "data": {
            "image/png": "[encoded data removed]",
            "text/plain": [
              "<Figure size 432x288 with 1 Axes>"
            ]
          },
          "metadata": {
            "tags": [],
            "needs_background": "light"
          }
        }
      ]
    }
  ]
}